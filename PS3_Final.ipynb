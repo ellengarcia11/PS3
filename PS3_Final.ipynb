{
 "cells": [
  {
   "cell_type": "markdown",
   "id": "3acf3e52-9b36-46e0-a028-456a5dd15373",
   "metadata": {},
   "source": [
    "# **<div align=\"center\"> Problem Set 3 </div>**\n",
    "**Background Information:**\n",
    "The data used in this problem set is from the NOAA Tides and Currents site, downloaded on Oct. 11, 2018. The columns used in this assignment are the Date Time values (date and time of observation) and water level (observed water level). \n",
    "\n",
    "**Problem 1:**\n",
    "* open the file,\n",
    "* use a for loop to read through the file line by line, \n",
    "* and report the highest water level and the date and time that was observed.\n"
   ]
  },
  {
   "cell_type": "code",
   "execution_count": 4,
   "id": "d64d7d72-0882-44f5-b8c9-32a214573a83",
   "metadata": {},
   "outputs": [
    {
     "name": "stdout",
     "output_type": "stream",
     "text": [
      "10/10/18 18:06 6.647\n"
     ]
    }
   ],
   "source": [
    "#open the file\n",
    "data = open('/home/ellengarcia11/CompToolsEllen/ProblemSet3Water.csv')\n",
    "max_water_level = 0\n",
    "date_time = \" \"\n",
    "\n",
    "#use a for loop to read through the file lne by line\n",
    "for line in data:\n",
    "    line = line.rstrip() #print(line)\n",
    "    columns = line.split(sep = ',') #print(columns[1])\n",
    "    try:\n",
    "        water_level = float(columns[1]) #print(water_level)\n",
    "    except:\n",
    "        continue   \n",
    "    date = columns[0] \n",
    "    \n",
    "#Report the highest water level, date, and time of observation\n",
    "    if water_level > max_water_level:\n",
    "        max_water_level = water_level\n",
    "        date_time = date\n",
    "print(date_time, max_water_level)\n",
    "\n",
    "data.close()\n"
   ]
  },
  {
   "cell_type": "markdown",
   "id": "71e22290-fda9-4031-be38-79e0a025a44a",
   "metadata": {},
   "source": [
    "**Problem 2:**\n",
    "* calculate the lowest, highest and average water level observed during the time period.\n",
    "* As above, print the date and time for the lowest and highest readings. \n"
   ]
  },
  {
   "cell_type": "code",
   "execution_count": 6,
   "id": "ba26f55c-bd5f-4912-bf61-bd035fd72628",
   "metadata": {},
   "outputs": [
    {
     "name": "stdout",
     "output_type": "stream",
     "text": [
      "The average water level is 3.868 on 2018-10-10\n",
      "The highest water level is 6.647 on 2018-10-10 18:06\n",
      "The lowest water level is 3.176 on  \n"
     ]
    }
   ],
   "source": [
    "#open the file\n",
    "data = open('/home/ellengarcia11/CompToolsEllen/ProblemSet3Water.csv')\n",
    "\n",
    "#Define vectors and lists\n",
    "contain_max_water_level = []\n",
    "max_water_level = 0\n",
    "min_water_level = [0]\n",
    "date_time = \" \"\n",
    "min_date_time = \" \"\n",
    "\n",
    "#Extract data on the day when maximum water level occured\n",
    "for line in data:\n",
    "    line = line.rstrip()\n",
    "    columns = line.split(sep = ',')\n",
    "    try:\n",
    "        water_level = float(columns[1])\n",
    "    except:\n",
    "        continue\n",
    "    date= columns[0]\n",
    "    try:\n",
    "        water_level = float(columns[1])\n",
    "        if '2018-10-10' in date:\n",
    "            contain_max_water_level.append(columns) \n",
    "    except:\n",
    "        continue\n",
    "    \n",
    "#Calculate the lowest, highest and average water level observed    \n",
    "\n",
    "water_level_dat = []\n",
    "\n",
    "for line in range(len(contain_max_water_level)):\n",
    "    columns = contain_max_water_level[line]\n",
    "    date= columns[0]\n",
    "    \n",
    "#Calculate average water level\n",
    "    try:\n",
    "        num = float(columns[1])\n",
    "        water_level = float(columns[1])\n",
    "        if str(num) != 'nan':\n",
    "            water_level_dat.append(num)\n",
    "    except:\n",
    "        continue\n",
    "    \n",
    " #Calculate maximum water level\n",
    "    try:\n",
    "        water_level = float(columns[1])\n",
    "        if water_level > max_water_level:\n",
    "            max_water_level = water_level\n",
    "            max_date_time = date\n",
    "    except:\n",
    "        continue\n",
    "    \n",
    "#Calculate minimum water level\n",
    "    try:\n",
    "        water_level = float(columns[1])\n",
    "        if line == 0:\n",
    "            min_water_level = water_level\n",
    "        if water_level < min_water_level:\n",
    "            min_water_level = water_level\n",
    "            min_date_time = date\n",
    "    except:\n",
    "        continue\n",
    "\n",
    "#Average water level\n",
    "avg_water_level = sum(water_level_dat)/len(water_level_dat)\n",
    "print(f\"The average water level is {round(avg_water_level,3)} on 2018-10-10\")\n",
    "\n",
    "#Highest water level\n",
    "print(f\"The highest water level is {max_water_level} on {max_date_time}\")\n",
    "\n",
    "#Lowest water level\n",
    "print(f\"The lowest water level is {min_water_level} on {min_date_time}\")\n",
    "\n",
    "data.close()"
   ]
  },
  {
   "cell_type": "markdown",
   "id": "8128f48c-35f8-4c49-be17-d79d58c905e7",
   "metadata": {},
   "source": [
    "**Problem 3:**\n",
    "* calculate the fastest rise in water level per 6-minute period between measurements (each line is a new interval)\n",
    "* and report the date and time that was observed and the change in water level from the previous recording. \n"
   ]
  },
  {
   "cell_type": "code",
   "execution_count": 5,
   "id": "c43b9c15-ba83-4249-889f-6703965a43a0",
   "metadata": {},
   "outputs": [
    {
     "name": "stdout",
     "output_type": "stream",
     "text": [
      "0.6400000000000006 10/10/18 17:42\n"
     ]
    }
   ],
   "source": [
    "data = open('/home/ellengarcia11/CompToolsEllen/ProblemSet3Water.csv')\n",
    "count = 0\n",
    "max_water_level = 0\n",
    "prev_water_level = 2.421\n",
    "max_diff = -100\n",
    "date_time_max_diff = 0\n",
    "data.readline()\n",
    "\n",
    "for line in data:\n",
    "    count = count + 1\n",
    "    line = line.rstrip()\n",
    "    columns = line.split(sep=',')\n",
    "    date_time = columns[0]\n",
    "    \n",
    "    try:\n",
    "        water_level = float(columns[1])\n",
    "        diff = water_level - prev_water_level\n",
    "        prev_water_level = water_level\n",
    "    except:\n",
    "        continue\n",
    "    \n",
    "    if diff > max_diff:\n",
    "        max_diff = diff\n",
    "        date_time_max_diff = date_time\n",
    "    \n",
    "print(max_diff, date_time_max_diff)\n",
    "\n",
    "data.close()"
   ]
  },
  {
   "cell_type": "markdown",
   "id": "9ca4efdf-935a-473d-aafa-73241ef22aff",
   "metadata": {},
   "source": [
    "**Problem 4:**\n",
    "print a line of text with a warning if any of these events occur:\n",
    "* The water level increases more than 0.25 since the previous recording.\n",
    "* The water level is over 5.0.\n",
    "* No reading is received at a time point.\n"
   ]
  },
  {
   "cell_type": "code",
   "execution_count": 3,
   "id": "19917001-8681-42a8-8f2c-3e7a02c8fec2",
   "metadata": {},
   "outputs": [
    {
     "name": "stdout",
     "output_type": "stream",
     "text": [
      "Water level increased over 0.25 for 10/10/18 17:30\n",
      "Water level increased over 0.25 for 10/10/18 17:36\n",
      "Water level increased over 0.25 for 10/10/18 17:42\n",
      "Water level is over 5.0 for 10/10/18 17:42\n",
      "Water level increased over 0.25 for 10/10/18 17:48\n",
      "Water level is over 5.0 for 10/10/18 17:48\n",
      "Water level increased over 0.25 for 10/10/18 17:54\n",
      "Water level is over 5.0 for 10/10/18 17:54\n",
      "Water level is over 5.0 for 10/10/18 18:00\n",
      "Water level is over 5.0 for 10/10/18 18:06\n",
      "Water level is over 5.0 for 10/10/18 18:12\n",
      "No water level data for 10/10/18 18:18\n",
      "Water level is over 5.0 for 10/10/18 18:24\n",
      "Water level is over 5.0 for 10/10/18 18:30\n",
      "Water level is over 5.0 for 10/10/18 18:36\n",
      "Water level is over 5.0 for 10/10/18 18:42\n",
      "Water level is over 5.0 for 10/10/18 18:48\n",
      "Water level is over 5.0 for 10/10/18 18:54\n",
      "Water level is over 5.0 for 10/10/18 19:00\n"
     ]
    }
   ],
   "source": [
    "data = open('/home/ellengarcia11/CompToolsEllen/ProblemSet3Water.csv')\n",
    "count = 0\n",
    "max_water_level = 0\n",
    "prev_water_level = 2.421\n",
    "max_diff = -100\n",
    "date_time_max_diff = 0\n",
    "data.readline()\n",
    "\n",
    "for line in data:\n",
    "    count = count + 1\n",
    "    line = line.rstrip()\n",
    "    columns = line.split(sep=',')\n",
    "    date_time = columns[0]\n",
    "    \n",
    "    try:\n",
    "        water_level = float(columns[1])\n",
    "        diff = water_level - prev_water_level\n",
    "        prev_water_level = water_level\n",
    "    except:\n",
    "        print(f\"No water level data for {date_time}\")\n",
    "        continue\n",
    "    \n",
    "    if diff > max_diff:\n",
    "        max_diff = diff\n",
    "        date_time_max_diff = date_time\n",
    "        \n",
    "    if diff > 0.25:\n",
    "        print(f\"Water level increased over 0.25 for {date_time}\")\n",
    "    \n",
    "    if water_level > 5.0:\n",
    "        print (f\"Water level is over 5.0 for {date_time}\")"
   ]
  },
  {
   "cell_type": "code",
   "execution_count": null,
   "id": "af5b176c-cb99-48c3-9d7f-2d22afb6bf02",
   "metadata": {},
   "outputs": [],
   "source": []
  }
 ],
 "metadata": {
  "kernelspec": {
   "display_name": "UFRC Python-3.10",
   "language": "python",
   "name": "python3-3.10-ufrc"
  },
  "language_info": {
   "codemirror_mode": {
    "name": "ipython",
    "version": 3
   },
   "file_extension": ".py",
   "mimetype": "text/x-python",
   "name": "python",
   "nbconvert_exporter": "python",
   "pygments_lexer": "ipython3",
   "version": "3.10.5"
  }
 },
 "nbformat": 4,
 "nbformat_minor": 5
}
